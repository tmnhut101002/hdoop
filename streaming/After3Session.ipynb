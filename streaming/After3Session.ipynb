{
 "cells": [
  {
   "cell_type": "code",
   "execution_count": 1,
   "metadata": {},
   "outputs": [
    {
     "name": "stderr",
     "output_type": "stream",
     "text": [
      "/usr/lib/python3/dist-packages/scipy/__init__.py:146: UserWarning: A NumPy version >=1.17.3 and <1.25.0 is required for this version of SciPy (detected version 1.26.4\n",
      "  warnings.warn(f\"A NumPy version >={np_minversion} and <{np_maxversion}\"\n"
     ]
    }
   ],
   "source": [
    "from sklearn.metrics.pairwise import cosine_similarity\n",
    "import numpy as np\n",
    "import scipy.stats\n",
    "import redis\n",
    "from redis.commands.search.query import Query"
   ]
  },
  {
   "cell_type": "code",
   "execution_count": 2,
   "metadata": {},
   "outputs": [
    {
     "name": "stderr",
     "output_type": "stream",
     "text": [
      "/home/hdoop/.local/lib/python3.10/site-packages/tqdm/auto.py:21: TqdmWarning: IProgress not found. Please update jupyter and ipywidgets. See https://ipywidgets.readthedocs.io/en/stable/user_install.html\n",
      "  from .autonotebook import tqdm as notebook_tqdm\n",
      "/home/hdoop/.local/lib/python3.10/site-packages/huggingface_hub/file_download.py:1132: FutureWarning: `resume_download` is deprecated and will be removed in version 1.0.0. Downloads always resume when possible. If you want to force a new download, use `force_download=True`.\n",
      "  warnings.warn(\n",
      "/home/hdoop/.local/lib/python3.10/site-packages/huggingface_hub/file_download.py:1132: FutureWarning: `resume_download` is deprecated and will be removed in version 1.0.0. Downloads always resume when possible. If you want to force a new download, use `force_download=True`.\n",
      "  warnings.warn(\n",
      "/home/hdoop/.local/lib/python3.10/site-packages/torch/cuda/__init__.py:118: UserWarning: CUDA initialization: The NVIDIA driver on your system is too old (found version 11060). Please update your GPU driver by downloading and installing a new version from the URL: http://www.nvidia.com/Download/index.aspx Alternatively, go to: https://pytorch.org to install a PyTorch version that has been compiled with your version of the CUDA driver. (Triggered internally at ../c10/cuda/CUDAFunctions.cpp:108.)\n",
      "  return torch._C._cuda_getDeviceCount() > 0\n"
     ]
    }
   ],
   "source": [
    "from sentence_transformers import SentenceTransformer\n",
    "\n",
    "embedder = SentenceTransformer('keepitreal/vietnamese-sbert')"
   ]
  },
  {
   "cell_type": "code",
   "execution_count": 3,
   "metadata": {},
   "outputs": [],
   "source": [
    "# Item from 3 session nearest and its weight (save in database)\n",
    "q = 0.2\n",
    "v = 0.3\n",
    "r = 0.5\n",
    "itemSessionVector = [([0.1,0.25,0.13], q),([0.9,-0.2,0.125], q), ([0.5, -0.6, 0.254], v), ([0.1, 0.36, -0.9], r)]\n",
    "\n",
    "# Item from real-time search (top 20 item similar with search query - use Bert to find)\n",
    "# array = [(itemBert1, itemID1), (itemBert2, itemID2)]\n",
    "itemRealSearch = [([0.8,0.12,0.5], \"130542248\"),([0.1,-0.5,-0.2], \"154852\")]\n"
   ]
  },
  {
   "cell_type": "code",
   "execution_count": 3,
   "metadata": {},
   "outputs": [],
   "source": [
    "client = redis.Redis(host = 'localhost', port=6379, decode_responses=True)\n",
    "INDEX_NAME = 'idx:product-vss'"
   ]
  },
  {
   "cell_type": "code",
   "execution_count": 5,
   "metadata": {},
   "outputs": [],
   "source": [
    "# Item from 3 session nearest and its weight (save in database)\n",
    "q = 0.2 # weight of click item\n",
    "v = 0.3 # weight of favorite item\n",
    "r = 0.5 # weight of buy item"
   ]
  },
  {
   "cell_type": "code",
   "execution_count": 6,
   "metadata": {},
   "outputs": [],
   "source": [
    "product39001 = client.json().get('ecommerce:product:39001')\n",
    "product122782 = client.json().get('ecommerce:product:122782')\n",
    "product140968 = client.json().get('ecommerce:product:140968')\n",
    "product172950 = client.json().get('ecommerce:product:172950')\n",
    "product175952 = client.json().get('ecommerce:product:175952')\n",
    "product262528 = client.json().get('ecommerce:product:262528')\n",
    "product288988 = client.json().get('ecommerce:product:288988')\n",
    "product911224 = client.json().get('ecommerce:product:911224')\n",
    "itemSessionVector = [(product39001['description_embeddings'], q),\n",
    "                        (product122782['description_embeddings'], q),\n",
    "                        (product140968['description_embeddings'], r),\n",
    "                        (product172950['description_embeddings'], q),\n",
    "                        (product175952['description_embeddings'], v)]\n",
    "\n",
    "# itemRealSearch = [(product262528['description_embeddings'], str(product262528['id'])),\n",
    "#                     (product262528['description_embeddings'], str(product262528['id'])),]\n",
    "\n"
   ]
  },
  {
   "cell_type": "code",
   "execution_count": 12,
   "metadata": {},
   "outputs": [],
   "source": [
    "queries = ['Xe đạp thể thao','Nồi cơm điện']\n",
    "encoded_queries = embedder.encode(queries)"
   ]
  },
  {
   "cell_type": "code",
   "execution_count": null,
   "metadata": {},
   "outputs": [],
   "source": [
    "query_1 = (\n",
    "    Query(f'@name:{queries[0]}| @summary:{queries[0]}').return_fields('id', 'name','description_embeddings' )\n",
    ")\n",
    "docs = client.ft(INDEX_NAME).search(query_1).docs\n",
    "\n",
    "for doc in docs:\n",
    "    doc_id = doc.id\n",
    "    print(doc_id)\n",
    "    doc_name = doc.name\n",
    "    print(doc_name)\n",
    "    \n",
    "    doc_details = client.json().get(f'{doc_id}', '$.description_embeddings')\n",
    "    print(doc_details)\n",
    "        \n"
   ]
  },
  {
   "cell_type": "code",
   "execution_count": null,
   "metadata": {},
   "outputs": [],
   "source": [
    "itemRealSearch = []\n",
    "docs = []\n",
    "\n",
    "\n",
    "for query_text in queries:\n",
    "    # Define the query to search by name and return the desired fields\n",
    "    search_query = (\n",
    "        Query(f'@name:{query_text}')\n",
    "        .return_fields('id', 'name')\n",
    "        .paging(0, 3)  # Limit the results to the top 3 if necessary\n",
    "    )\n",
    "    \n",
    "    # Execute the search query\n",
    "    \n",
    "    docs = client.ft(INDEX_NAME).search(search_query).docs\n",
    "    \n",
    "    # Process the search results and store them in the itemRealSearch list\n",
    "    for doc in docs:\n",
    "        print(doc.name)\n",
    "        description_embeddings = client.json().get(f'{doc.id}', '$.description_embeddings')\n",
    "        item_id = str(doc.id)\n",
    "        itemRealSearch.append((item_id, description_embeddings[0]))\n",
    "\n",
    "# Print the results\n",
    "for item in itemRealSearch:\n",
    "    print(item)"
   ]
  },
  {
   "cell_type": "markdown",
   "metadata": {},
   "source": [
    "# Constructing a \"Pure KNN\" VSS Query"
   ]
  },
  {
   "cell_type": "code",
   "execution_count": 18,
   "metadata": {},
   "outputs": [],
   "source": [
    "queries = ['Nồi cơm điện']\n",
    "encoded_queries = embedder.encode(queries)"
   ]
  },
  {
   "cell_type": "code",
   "execution_count": 19,
   "metadata": {},
   "outputs": [],
   "source": [
    "query = (\n",
    "        Query('(*)=>[KNN 20 @vector_name $query_vector AS vector_score]')\n",
    "                .sort_by('vector_score')\n",
    "                .return_fields('vector_score', 'id', 'name', 'summary')\n",
    "                .dialect(2)\n",
    "        )"
   ]
  },
  {
   "cell_type": "code",
   "execution_count": 20,
   "metadata": {},
   "outputs": [],
   "source": [
    "import pandas as pd\n",
    "from IPython.display import display, HTML\n",
    "\n",
    "INDEX_NAME = 'idx:product-vss'\n",
    "itemRealSearch = []\n",
    "\n",
    "def create_query_table(query, queries, encoded_queries, extra_params = {}):\n",
    "    results_list = []\n",
    "    for i, encoded_query in enumerate(encoded_queries):\n",
    "        result_docs = client.ft(INDEX_NAME).search(query, { 'query_vector': np.array(encoded_query, dtype=np.float32).tobytes() } | extra_params).docs\n",
    "        for doc in result_docs:\n",
    "            vector_score = round(1 - float(doc.vector_score), 2)\n",
    "            results_list.append({\n",
    "                'query': queries[i], \n",
    "                'score': vector_score, \n",
    "                'id': doc.id,\n",
    "                'name': doc.name,\n",
    "                # 'summary': doc.summary\n",
    "            })\n",
    "            description_embeddings = client.json().get(f'{doc.id}', '$.description_embeddings')\n",
    "            itemRealSearch.append((description_embeddings[0], (doc.id).split(\":\")[-1]))\n",
    "\n",
    "    queries_table = pd.DataFrame(results_list)\n",
    "    html = queries_table.to_html(index=False, classes='striped_table')  \n",
    "    display(HTML(html))\n",
    "    print(len(itemRealSearch))\n",
    "    return itemRealSearch"
   ]
  },
  {
   "cell_type": "code",
   "execution_count": 21,
   "metadata": {},
   "outputs": [
    {
     "data": {
      "text/html": [
       "<table border=\"1\" class=\"dataframe striped_table\">\n",
       "  <thead>\n",
       "    <tr style=\"text-align: right;\">\n",
       "      <th>query</th>\n",
       "      <th>score</th>\n",
       "      <th>id</th>\n",
       "      <th>name</th>\n",
       "    </tr>\n",
       "  </thead>\n",
       "  <tbody>\n",
       "    <tr>\n",
       "      <td>Nồi cơm điện</td>\n",
       "      <td>0.72</td>\n",
       "      <td>ecommerce:product:98597056</td>\n",
       "      <td>Nồi cơm điện mini đa năng 3 tầng khay inox 304 giữ nhiệt tốt</td>\n",
       "    </tr>\n",
       "    <tr>\n",
       "      <td>Nồi cơm điện</td>\n",
       "      <td>0.71</td>\n",
       "      <td>ecommerce:product:67872339</td>\n",
       "      <td>Hộp cơm điện mini đa năng AS2020 chất liệu inox siêu bền, giữ nhiệt tốt.Hộp cơm hâm nóng, nấu chín thức ăn, cơm.</td>\n",
       "    </tr>\n",
       "    <tr>\n",
       "      <td>Nồi cơm điện</td>\n",
       "      <td>0.69</td>\n",
       "      <td>ecommerce:product:148000945</td>\n",
       "      <td>Nồi cơm điện MIDEA MB-FS4020E Nấu cơm nhanh chín Tiết kiệm điện Dung tích 1.5L Nhiều chế độ nấu Hàng Chính Hãng</td>\n",
       "    </tr>\n",
       "    <tr>\n",
       "      <td>Nồi cơm điện</td>\n",
       "      <td>0.68</td>\n",
       "      <td>ecommerce:product:147325475</td>\n",
       "      <td>Nồi lẩu kiêm chảo điện đa năng cho gia đình</td>\n",
       "    </tr>\n",
       "    <tr>\n",
       "      <td>Nồi cơm điện</td>\n",
       "      <td>0.68</td>\n",
       "      <td>ecommerce:product:56612474</td>\n",
       "      <td>Hộp Cơm Giữ Nhiệt INOX304 Hiện Đại Kèm Hộp Đựng Canh Soup</td>\n",
       "    </tr>\n",
       "    <tr>\n",
       "      <td>Nồi cơm điện</td>\n",
       "      <td>0.68</td>\n",
       "      <td>ecommerce:product:91339961</td>\n",
       "      <td>Nồi cơm điện Mini Kim Cương 0.3L - Chỉ 1 người ăn - Hàng chính hãng</td>\n",
       "    </tr>\n",
       "    <tr>\n",
       "      <td>Nồi cơm điện</td>\n",
       "      <td>0.67</td>\n",
       "      <td>ecommerce:product:185816376</td>\n",
       "      <td>Nồi cơm điện KIPOR KP-N25912 - 1.2L - Phủ chống dính HOÀNG KIM, Nồi cơm có tặng kèm vỉ hấp - phù hợp 2-3 người ăn - Hàng chính hãng</td>\n",
       "    </tr>\n",
       "    <tr>\n",
       "      <td>Nồi cơm điện</td>\n",
       "      <td>0.66</td>\n",
       "      <td>ecommerce:product:186070787</td>\n",
       "      <td>Nồi Cơm Điện Kim Cương 0.6 Lít Nắp Rời - Hàng Chính Hãng</td>\n",
       "    </tr>\n",
       "    <tr>\n",
       "      <td>Nồi cơm điện</td>\n",
       "      <td>0.66</td>\n",
       "      <td>ecommerce:product:113215758</td>\n",
       "      <td>Nồi hầm cháo - nồi hâm chậm tiết kiệm điện</td>\n",
       "    </tr>\n",
       "    <tr>\n",
       "      <td>Nồi cơm điện</td>\n",
       "      <td>0.66</td>\n",
       "      <td>ecommerce:product:186069941</td>\n",
       "      <td>Nồi Cơm Điện Kim Cương 0.3 Lít - Mini, Nắp Rời</td>\n",
       "    </tr>\n",
       "  </tbody>\n",
       "</table>"
      ],
      "text/plain": [
       "<IPython.core.display.HTML object>"
      ]
     },
     "metadata": {},
     "output_type": "display_data"
    },
    {
     "name": "stdout",
     "output_type": "stream",
     "text": [
      "10\n"
     ]
    }
   ],
   "source": [
    "itemRealSearch = create_query_table(query, queries, encoded_queries)"
   ]
  },
  {
   "cell_type": "code",
   "execution_count": 17,
   "metadata": {},
   "outputs": [
    {
     "data": {
      "text/html": [
       "<table border=\"1\" class=\"dataframe striped_table\">\n",
       "  <thead>\n",
       "    <tr style=\"text-align: right;\">\n",
       "    </tr>\n",
       "  </thead>\n",
       "  <tbody>\n",
       "  </tbody>\n",
       "</table>"
      ],
      "text/plain": [
       "<IPython.core.display.HTML object>"
      ]
     },
     "metadata": {},
     "output_type": "display_data"
    },
    {
     "name": "stdout",
     "output_type": "stream",
     "text": [
      "0\n"
     ]
    },
    {
     "data": {
      "text/plain": [
       "[]"
      ]
     },
     "execution_count": 17,
     "metadata": {},
     "output_type": "execute_result"
    }
   ],
   "source": [
    "create_query_table(query, queries, encoded_queries)"
   ]
  },
  {
   "cell_type": "code",
   "execution_count": 31,
   "metadata": {},
   "outputs": [
    {
     "name": "stdout",
     "output_type": "stream",
     "text": [
      "None\n"
     ]
    }
   ],
   "source": [
    "print(itemRealSearch)"
   ]
  },
  {
   "cell_type": "markdown",
   "metadata": {},
   "source": [
    "# a"
   ]
  },
  {
   "cell_type": "code",
   "execution_count": 113,
   "metadata": {},
   "outputs": [
    {
     "data": {
      "text/plain": [
       "['8680475',\n",
       " '71158657',\n",
       " '193898814',\n",
       " '44371242',\n",
       " '13151067',\n",
       " '47514109',\n",
       " '20427009',\n",
       " '173886106']"
      ]
     },
     "execution_count": 113,
     "metadata": {},
     "output_type": "execute_result"
    }
   ],
   "source": [
    "scoreList = []\n",
    "itemScoreList = []\n",
    "for i in itemRealSearch:\n",
    "    for j in itemSessionVector:\n",
    "        score = cosine_similarity([i[0]],[j[0]])*j[1]\n",
    "        scoreList.append(score)\n",
    "        itemScoreList.append(i[1])\n",
    "\n",
    "rank = scipy.stats.rankdata(scoreList)\n",
    "\n",
    "# List of index of rank => find item id in itemScoreList (top 10)\n",
    "rankScoreIndex = []\n",
    "for i in range(1,11):\n",
    "    a = np.where(rank == i)\n",
    "    if len(a) > 0:\n",
    "        rankScoreIndex = np.append(rankScoreIndex,a)\n",
    "    else:\n",
    "        break\n",
    "\n",
    "# List of item id in itemScoreList ranked base-on score (de-duplicated)\n",
    "rankItemId = []\n",
    "for i in rankScoreIndex:\n",
    "    if itemScoreList[int(i)] not in rankItemId:\n",
    "        rankItemId.append(itemScoreList[int(i)])\n",
    "    else:\n",
    "        continue\n",
    "\n",
    "rankItemId\n"
   ]
  },
  {
   "cell_type": "code",
   "execution_count": 4,
   "metadata": {},
   "outputs": [],
   "source": [
    "# sample dataframe\n",
    "#      user1 user2\n",
    "# item1\n",
    "# item2\n",
    "# Check item which user is not rank\n",
    "def check_item_not_rank(user, rankItemId, UserItem_DF):\n",
    "    \n",
    "    nescessaryUserDF = UserItem_DF.loc[UserItem_DF['user'] == user].isin(rankItemId)\n",
    "    \n",
    "    listItemNotRated = []\n",
    "    listItemRated = []\n",
    "\n",
    "    for ite in rankItemId:\n",
    "        if nescessaryUserDF[ite][user] == 0:\n",
    "            listItemNotRated.append(nescessaryUserDF[ite][user])\n",
    "        else:\n",
    "            listItemRated.append(nescessaryUserDF[ite][user])\n",
    "\n",
    "    \n",
    "    return listItemNotRated, listItemRated\n",
    "\n",
    "\n"
   ]
  }
 ],
 "metadata": {
  "kernelspec": {
   "display_name": "Python 3",
   "language": "python",
   "name": "python3"
  },
  "language_info": {
   "codemirror_mode": {
    "name": "ipython",
    "version": 3
   },
   "file_extension": ".py",
   "mimetype": "text/x-python",
   "name": "python",
   "nbconvert_exporter": "python",
   "pygments_lexer": "ipython3",
   "version": "3.10.12"
  }
 },
 "nbformat": 4,
 "nbformat_minor": 2
}
