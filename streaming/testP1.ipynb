{
 "cells": [
  {
   "cell_type": "code",
   "execution_count": 1,
   "metadata": {},
   "outputs": [
    {
     "name": "stderr",
     "output_type": "stream",
     "text": [
      "/home/hdoop/.local/lib/python3.10/site-packages/tqdm/auto.py:21: TqdmWarning: IProgress not found. Please update jupyter and ipywidgets. See https://ipywidgets.readthedocs.io/en/stable/user_install.html\n",
      "  from .autonotebook import tqdm as notebook_tqdm\n",
      "/usr/lib/python3/dist-packages/scipy/__init__.py:146: UserWarning: A NumPy version >=1.17.3 and <1.25.0 is required for this version of SciPy (detected version 1.26.4\n",
      "  warnings.warn(f\"A NumPy version >={np_minversion} and <{np_maxversion}\"\n"
     ]
    }
   ],
   "source": [
    "from transformers import DistilBertModel, DistilBertConfig\n",
    "from transformers import DistilBertTokenizer\n",
    "import torch\n",
    "from sklearn.metrics.pairwise import cosine_similarity\n",
    "import numpy as np\n",
    "import mysql.connector as sql\n",
    "import pandas as pd"
   ]
  },
  {
   "cell_type": "code",
   "execution_count": 2,
   "metadata": {},
   "outputs": [],
   "source": [
    "configuration = DistilBertConfig()\n",
    "model = DistilBertModel(configuration)\n",
    "configuration = model.config"
   ]
  },
  {
   "cell_type": "code",
   "execution_count": 3,
   "metadata": {},
   "outputs": [],
   "source": [
    "def create_bert(input_str):\n",
    "  tokenizer = DistilBertTokenizer.from_pretrained('distilbert-base-uncased')\n",
    "  inputs = tokenizer(input_str, max_length=512, truncation=True, return_tensors=\"pt\")\n",
    "  outputs = model(**inputs)\n",
    "  last_hidden_states = outputs.last_hidden_state\n",
    "\n",
    "  return last_hidden_states[0][0]"
   ]
  },
  {
   "cell_type": "code",
   "execution_count": 4,
   "metadata": {},
   "outputs": [],
   "source": [
    "db_connection = sql.connect(host='localhost', database='ecommerce', user='root', password='Password@123')\n",
    "db_cursor = db_connection.cursor()\n",
    "db_cursor.execute('SELECT * FROM Product')\n",
    "\n",
    "table_rows = db_cursor.fetchall()\n",
    "\n",
    "df = pd.DataFrame(table_rows)\n",
    "df.columns = ['id', 'name', 'summary','shop_id']"
   ]
  },
  {
   "cell_type": "code",
   "execution_count": 35,
   "metadata": {},
   "outputs": [
    {
     "name": "stdout",
     "output_type": "stream",
     "text": [
      "6\n",
      "7\n",
      "8\n",
      "9\n",
      "10\n"
     ]
    },
    {
     "ename": "",
     "evalue": "",
     "output_type": "error",
     "traceback": [
      "\u001b[1;31mThe Kernel crashed while executing code in the current cell or a previous cell. \n",
      "\u001b[1;31mPlease review the code in the cell(s) to identify a possible cause of the failure. \n",
      "\u001b[1;31mClick <a href='https://aka.ms/vscodeJupyterKernelCrash'>here</a> for more info. \n",
      "\u001b[1;31mView Jupyter <a href='command:jupyter.viewOutput'>log</a> for further details."
     ]
    }
   ],
   "source": [
    "vector_bert = []\n",
    "for i in range(6, 16):\n",
    "  print(i)\n",
    "  bert = create_bert(df['summary'][i])\n",
    "  vector_bert.append(bert)"
   ]
  },
  {
   "cell_type": "code",
   "execution_count": 31,
   "metadata": {},
   "outputs": [
    {
     "name": "stderr",
     "output_type": "stream",
     "text": [
      "/home/hdoop/.local/lib/python3.10/site-packages/huggingface_hub/file_download.py:1132: FutureWarning: `resume_download` is deprecated and will be removed in version 1.0.0. Downloads always resume when possible. If you want to force a new download, use `force_download=True`.\n",
      "  warnings.warn(\n"
     ]
    }
   ],
   "source": [
    "a = \"Công suất 1200W Sấy tóc PANASONIC EH-ND21-P645 có công suất 1200W hoạt động mạnh mẽ sẽ giúp bạn sấy khô mái tóc của mình nhanh chóng.\"\n",
    "vector_a = create_bert(a)\n",
    "vector_a_np = vector_a.detach().numpy()"
   ]
  },
  {
   "cell_type": "code",
   "execution_count": 33,
   "metadata": {},
   "outputs": [
    {
     "name": "stdout",
     "output_type": "stream",
     "text": [
      "Công suất 1200W Sấy tóc PANASONIC EH-ND21-P645 có công suất 1200W hoạt động mạnh mẽ sẽ giúp bạn sấy khô mái tóc của mình nhanh chóng. Để làm đẹp cho mái tóc hay cần sấy khô sau khi gội, khi đi mưa về thì không có gì hiệu quả và nhanh chóng hơn một chiếc máy sấy tóc tóc.  Thiết kế tay cầm gập Máy sấy tóc Panasonic EH-ND21-P645 hoàn toàn có thể đáp ứng được các yêu cầu đó của bạn. Máy có phần tay cầm có thể gập lại được để bỏ vào giỏ xách hay có móc treo để treo lên tường rất tiện lợi.  3 tốc độ sấy Tùy theo độ dày mỏng của tóc mà bạn có thể chọn 1 trong 3 chế độ sấy phù hợp trên máy sấy tóc Panasonic EH-ND21-P645. Máy có thêm chế độ sấy mát để bạn sấy khô tóc mà không bị cảm giác nóng bức khó chịu nữa.  Tự ngắt điện Chế độ tự ngắt khi quá tải để nâng cao tính an toàn trong quá trình bạn sử dụng. Ngoài ra máy khi hoạt động cũng khá êm ái, ít ồn, tạo sự dễ chịu cho người sử dụng.  Máy sấy tóc PANASONIC EH-ND21-P645 thiết kế nhỏ gọn, tiện lợi phù hợp cả khi sử dụng ở nhà hay mang đi du lịch. Giá sản phẩm trên Tiki đã bao gồm thuế theo luật hiện hành. Bên cạnh đó, tuỳ vào loại sản phẩm, hình thức và địa chỉ giao hàng mà có thể phát sinh thêm chi phí khác như phí vận chuyển, phụ phí hàng cồng kềnh, thuế nhập khẩu (đối với đơn hàng giao từ nước ngoài có giá trị trên 1 triệu đồng).....\n",
      "Công suất 1200W Sấy tóc PANASONIC EH-ND21-P645 có công suất 1200W hoạt động mạnh mẽ sẽ giúp bạn sấy khô mái tóc của mình nhanh chóng.\n",
      "[0.9999999]\n"
     ]
    }
   ],
   "source": [
    "vector_np = vector_bert[1].detach().numpy()\n",
    "# vector_1_np = vector_bert[3].detach().numpy()\n",
    "\n",
    "cos = cosine_similarity([vector_np], [vector_a_np])\n",
    "print(df['summary'][1])\n",
    "print(a)\n",
    "print(cos[0])\n"
   ]
  },
  {
   "cell_type": "code",
   "execution_count": null,
   "metadata": {},
   "outputs": [],
   "source": []
  },
  {
   "cell_type": "code",
   "execution_count": null,
   "metadata": {},
   "outputs": [],
   "source": []
  }
 ],
 "metadata": {
  "kernelspec": {
   "display_name": "Python 3",
   "language": "python",
   "name": "python3"
  },
  "language_info": {
   "codemirror_mode": {
    "name": "ipython",
    "version": 3
   },
   "file_extension": ".py",
   "mimetype": "text/x-python",
   "name": "python",
   "nbconvert_exporter": "python",
   "pygments_lexer": "ipython3",
   "version": "3.10.12"
  }
 },
 "nbformat": 4,
 "nbformat_minor": 2
}
