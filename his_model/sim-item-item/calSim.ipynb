{
 "cells": [
  {
   "cell_type": "code",
   "execution_count": 16,
   "metadata": {},
   "outputs": [],
   "source": [
    "import redis\n",
    "import numpy as np\n",
    "from scipy.spatial.distance import cosine\n",
    "from redis.commands.search.indexDefinition import IndexDefinition, IndexType\n",
    "from redis.commands.search.field import TagField, NumericField\n",
    "import json"
   ]
  },
  {
   "cell_type": "code",
   "execution_count": 19,
   "metadata": {},
   "outputs": [],
   "source": [
    "redis_host='localhost'\n",
    "redis_port=6379\n",
    "redis_client = redis.Redis(host=redis_host, port=redis_port, db=0)\n",
    "MODEL_INDEX_NAME = \"idx:sim_item\"\n",
    "MODEL_KEY_BASE = \"ecommerce:sim_item\""
   ]
  },
  {
   "cell_type": "code",
   "execution_count": 20,
   "metadata": {},
   "outputs": [],
   "source": [
    "keys = sorted(redis_client.keys('ecommerce:product:*'))"
   ]
  },
  {
   "cell_type": "code",
   "execution_count": 21,
   "metadata": {},
   "outputs": [],
   "source": [
    "# Hàm để lấy name_embeddings từ Redis\n",
    "def get_name_embedding(key):\n",
    "    data = redis_client.json().get(key)\n",
    "    if data:\n",
    "        return np.array(data.get('name_embeddings'), dtype=np.float32)\n",
    "    return None\n",
    "\n",
    "# Lấy name_embeddings cho tất cả các sản phẩm\n",
    "embeddings = {key: get_name_embedding(key) for key in keys}"
   ]
  },
  {
   "cell_type": "code",
   "execution_count": null,
   "metadata": {},
   "outputs": [],
   "source": [
    "def extract_product_id(key):\n",
    "    return int(key.decode('utf-8').split(':')[-1])\n",
    "\n",
    "# Trích xuất ID sản phẩm cho tất cả các khóa\n",
    "product_ids = {key: extract_product_id(key) for key in embeddings.keys()}\n",
    "product_ids"
   ]
  },
  {
   "cell_type": "code",
   "execution_count": null,
   "metadata": {},
   "outputs": [],
   "source": [
    "# Hàm tính cosine similarity\n",
    "def cosine_similarity(vec1, vec2):\n",
    "    return 1 - cosine(vec1, vec2)\n",
    "\n",
    "# Tính cosine similarity giữa từng cặp sản phẩm\n",
    "cosine_similarities = {}\n",
    "keys_with_embeddings = list(embeddings.keys())\n",
    "for i, key1 in enumerate(keys_with_embeddings):\n",
    "    for j, key2 in enumerate(keys_with_embeddings):\n",
    "        if i < j:  # Để tránh tính lại các cặp đã tính\n",
    "            sim = cosine_similarity(embeddings[key1], embeddings[key2])\n",
    "            cosine_similarities[(product_ids[key1], product_ids[key2])] = sim\n",
    "            print(i, j, sim)\n"
   ]
  },
  {
   "cell_type": "code",
   "execution_count": 12,
   "metadata": {},
   "outputs": [],
   "source": [
    "def initialize_redis_index(redis_client, model_index_name, model_key_base):\n",
    "    # Tạo một chỉ mục mới\n",
    "    redis_client.ft(model_index_name).create_index(\n",
    "        [\n",
    "            TagField(\"$.item_u\", as_name=\"item_id_u\"),\n",
    "            TagField(\"$.item_v\", as_name=\"item_id_v\"),\n",
    "            NumericField(\"$.sim\", as_name=\"sim\")\n",
    "        ],\n",
    "        definition=IndexDefinition(\n",
    "            index_type=IndexType.JSON,\n",
    "            prefix=[f\"{model_key_base}:\"]\n",
    "        )\n",
    "    )"
   ]
  },
  {
   "cell_type": "code",
   "execution_count": 14,
   "metadata": {},
   "outputs": [
    {
     "name": "stdout",
     "output_type": "stream",
     "text": [
      "Index already exists!\n"
     ]
    }
   ],
   "source": [
    "try:\n",
    "    redis_client.ft(MODEL_INDEX_NAME).info()\n",
    "    print('Index already exists!')\n",
    "except:\n",
    "    initialize_redis_index(redis_client, MODEL_INDEX_NAME, MODEL_KEY_BASE)"
   ]
  },
  {
   "cell_type": "code",
   "execution_count": null,
   "metadata": {},
   "outputs": [],
   "source": [
    "for (item_u, item_v), sim in cosine_similarities.items():\n",
    "    key = f\"{MODEL_KEY_BASE}:{item_u}:{item_v}\"\n",
    "    value = {\n",
    "        \"item_u\": item_u,\n",
    "        \"item_v\": item_v,\n",
    "        \"sim\": sim\n",
    "    }\n",
    "    redis_client.set(key, json.dumps(value))\n",
    "    print(f'Add key: {key}')\n",
    "\n",
    "print(\"Cosine similarities have been stored in Redis.\")"
   ]
  }
 ],
 "metadata": {
  "kernelspec": {
   "display_name": "Python 3",
   "language": "python",
   "name": "python3"
  },
  "language_info": {
   "codemirror_mode": {
    "name": "ipython",
    "version": 3
   },
   "file_extension": ".py",
   "mimetype": "text/x-python",
   "name": "python",
   "nbconvert_exporter": "python",
   "pygments_lexer": "ipython3",
   "version": "3.10.12"
  }
 },
 "nbformat": 4,
 "nbformat_minor": 2
}
